{
  "nbformat": 4,
  "nbformat_minor": 0,
  "metadata": {
    "colab": {
      "provenance": [],
      "authorship_tag": "ABX9TyPvDSrbX4/gXzlSg0g+YTuq"
    },
    "kernelspec": {
      "name": "python3",
      "display_name": "Python 3"
    },
    "language_info": {
      "name": "python"
    }
  },
  "cells": [
    {
      "cell_type": "code",
      "source": [
        "# Normalize features for optional ML analysis\n",
        "scaler = StandardScaler()\n",
        "# Corrected column name: removed the extra space after $\n",
        "normalized = scaler.fit_transform(summary[[\"Silver (oz)_mean\", \"Profit ($)_mean\"]])\n",
        "summary[[\"Silver_zscore\", \"Profit_zscore\"]] = normalized\n",
        "\n",
        "# Final Output\n",
        "print(\"===== TOKEN SILVER SIMULATOR SUMMARY =====\")\n",
        "print(summary)"
      ],
      "metadata": {
        "colab": {
          "base_uri": "https://localhost:8080/"
        },
        "id": "Gwj8UtvbotJR",
        "outputId": "30b8ceae-eba3-4e50-ed7f-f0047f6df84d"
      },
      "execution_count": null,
      "outputs": [
        {
          "output_type": "stream",
          "name": "stdout",
          "text": [
            "===== TOKEN SILVER SIMULATOR SUMMARY =====\n",
            "           Tool  Silver (oz)_mean  Silver (oz)_sum  Profit ($)_mean  \\\n",
            "0    Basic Pick              0.59           587.51             0.88   \n",
            "1  Laser Digger              6.67          6673.19            36.73   \n",
            "2   Power Drill              2.47          2474.53             9.75   \n",
            "\n",
            "   Profit ($)_sum  Cost ($)_sum  Silver_zscore  Profit_zscore  \n",
            "0          875.12          5000      -1.043933      -0.977777  \n",
            "1        36731.91         30000       1.348195       1.373741  \n",
            "2         9745.26         15000      -0.304262      -0.395965  \n"
          ]
        }
      ]
    }
  ]
}